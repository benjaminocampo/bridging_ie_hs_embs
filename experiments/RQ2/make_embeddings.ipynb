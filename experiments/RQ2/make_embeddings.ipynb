{
  "cells": [
    {
      "cell_type": "code",
      "execution_count": 1,
      "metadata": {
        "colab": {
          "base_uri": "https://localhost:8080/"
        },
        "id": "5llIyuaDN6eB",
        "outputId": "659f4e89-3c63-4af1-fb66-a36d9247a809"
      },
      "outputs": [
        {
          "name": "stdout",
          "output_type": "stream",
          "text": [
            "Looking in indexes: https://pypi.org/simple, https://us-python.pkg.dev/colab-wheels/public/simple/\n",
            "Requirement already satisfied: torch in /usr/local/lib/python3.10/dist-packages (2.0.1+cu118)\n",
            "Requirement already satisfied: filelock in /usr/local/lib/python3.10/dist-packages (from torch) (3.12.0)\n",
            "Requirement already satisfied: typing-extensions in /usr/local/lib/python3.10/dist-packages (from torch) (4.5.0)\n",
            "Requirement already satisfied: sympy in /usr/local/lib/python3.10/dist-packages (from torch) (1.11.1)\n",
            "Requirement already satisfied: networkx in /usr/local/lib/python3.10/dist-packages (from torch) (3.1)\n",
            "Requirement already satisfied: jinja2 in /usr/local/lib/python3.10/dist-packages (from torch) (3.1.2)\n",
            "Requirement already satisfied: triton==2.0.0 in /usr/local/lib/python3.10/dist-packages (from torch) (2.0.0)\n",
            "Requirement already satisfied: cmake in /usr/local/lib/python3.10/dist-packages (from triton==2.0.0->torch) (3.25.2)\n",
            "Requirement already satisfied: lit in /usr/local/lib/python3.10/dist-packages (from triton==2.0.0->torch) (16.0.5)\n",
            "Requirement already satisfied: MarkupSafe>=2.0 in /usr/local/lib/python3.10/dist-packages (from jinja2->torch) (2.1.2)\n",
            "Requirement already satisfied: mpmath>=0.19 in /usr/local/lib/python3.10/dist-packages (from sympy->torch) (1.3.0)\n",
            "Looking in indexes: https://pypi.org/simple, https://us-python.pkg.dev/colab-wheels/public/simple/\n",
            "Requirement already satisfied: transformers in /usr/local/lib/python3.10/dist-packages (4.30.2)\n",
            "Requirement already satisfied: filelock in /usr/local/lib/python3.10/dist-packages (from transformers) (3.12.0)\n",
            "Requirement already satisfied: huggingface-hub<1.0,>=0.14.1 in /usr/local/lib/python3.10/dist-packages (from transformers) (0.15.1)\n",
            "Requirement already satisfied: numpy>=1.17 in /usr/local/lib/python3.10/dist-packages (from transformers) (1.22.4)\n",
            "Requirement already satisfied: packaging>=20.0 in /usr/local/lib/python3.10/dist-packages (from transformers) (23.1)\n",
            "Requirement already satisfied: pyyaml>=5.1 in /usr/local/lib/python3.10/dist-packages (from transformers) (6.0)\n",
            "Requirement already satisfied: regex!=2019.12.17 in /usr/local/lib/python3.10/dist-packages (from transformers) (2022.10.31)\n",
            "Requirement already satisfied: requests in /usr/local/lib/python3.10/dist-packages (from transformers) (2.27.1)\n",
            "Requirement already satisfied: tokenizers!=0.11.3,<0.14,>=0.11.1 in /usr/local/lib/python3.10/dist-packages (from transformers) (0.13.3)\n",
            "Requirement already satisfied: safetensors>=0.3.1 in /usr/local/lib/python3.10/dist-packages (from transformers) (0.3.1)\n",
            "Requirement already satisfied: tqdm>=4.27 in /usr/local/lib/python3.10/dist-packages (from transformers) (4.65.0)\n",
            "Requirement already satisfied: fsspec in /usr/local/lib/python3.10/dist-packages (from huggingface-hub<1.0,>=0.14.1->transformers) (2023.4.0)\n",
            "Requirement already satisfied: typing-extensions>=3.7.4.3 in /usr/local/lib/python3.10/dist-packages (from huggingface-hub<1.0,>=0.14.1->transformers) (4.5.0)\n",
            "Requirement already satisfied: urllib3<1.27,>=1.21.1 in /usr/local/lib/python3.10/dist-packages (from requests->transformers) (1.26.15)\n",
            "Requirement already satisfied: certifi>=2017.4.17 in /usr/local/lib/python3.10/dist-packages (from requests->transformers) (2022.12.7)\n",
            "Requirement already satisfied: charset-normalizer~=2.0.0 in /usr/local/lib/python3.10/dist-packages (from requests->transformers) (2.0.12)\n",
            "Requirement already satisfied: idna<4,>=2.5 in /usr/local/lib/python3.10/dist-packages (from requests->transformers) (3.4)\n",
            "Looking in indexes: https://pypi.org/simple, https://us-python.pkg.dev/colab-wheels/public/simple/\n",
            "Requirement already satisfied: pandas in /usr/local/lib/python3.10/dist-packages (1.5.3)\n",
            "Requirement already satisfied: python-dateutil>=2.8.1 in /usr/local/lib/python3.10/dist-packages (from pandas) (2.8.2)\n",
            "Requirement already satisfied: pytz>=2020.1 in /usr/local/lib/python3.10/dist-packages (from pandas) (2022.7.1)\n",
            "Requirement already satisfied: numpy>=1.21.0 in /usr/local/lib/python3.10/dist-packages (from pandas) (1.22.4)\n",
            "Requirement already satisfied: six>=1.5 in /usr/local/lib/python3.10/dist-packages (from python-dateutil>=2.8.1->pandas) (1.16.0)\n"
          ]
        }
      ],
      "source": [
        "!pip install torch\n",
        "!pip install transformers\n",
        "!pip install pandas"
      ]
    },
    {
      "cell_type": "code",
      "execution_count": 2,
      "metadata": {
        "colab": {
          "base_uri": "https://localhost:8080/"
        },
        "id": "sR6NVD-129x1",
        "outputId": "04abc798-cea0-4acf-bfb8-dd5ba56d508f"
      },
      "outputs": [
        {
          "name": "stdout",
          "output_type": "stream",
          "text": [
            "Token will not been saved to git credential helper. Pass `add_to_git_credential=True` if you want to set the git credential as well.\n",
            "Token is valid (permission: read).\n",
            "Your token has been saved to /root/.cache/huggingface/token\n",
            "Login successful\n"
          ]
        }
      ],
      "source": [
        "from huggingface_hub import login\n",
        "\n",
        "login(token=\"YOUR_TOKEN\")"
      ]
    },
    {
      "cell_type": "code",
      "execution_count": 3,
      "metadata": {
        "id": "wWnBtaF6dCyO"
      },
      "outputs": [],
      "source": [
        "import torch\n",
        "from transformers import AutoModel, AutoTokenizer\n",
        "import pandas as pd\n",
        "import numpy as np"
      ]
    },
    {
      "cell_type": "code",
      "execution_count": 4,
      "metadata": {
        "id": "dWyjc55edIDS"
      },
      "outputs": [],
      "source": [
        "def sample_group(group, sample_size):\n",
        "    if len(group) > sample_size:\n",
        "        return group.sample(sample_size)\n",
        "    else:\n",
        "        return group"
      ]
    },
    {
      "cell_type": "code",
      "execution_count": 5,
      "metadata": {
        "id": "IGG8J0yYdKER"
      },
      "outputs": [],
      "source": [
        "def embed(model, tokenizer, texts):\n",
        "    encoded_input = tokenizer(texts, padding=True, truncation=True, return_tensors=\"pt\")\n",
        "    input_ids = encoded_input[\"input_ids\"].to(device)\n",
        "    attention_mask = encoded_input[\"attention_mask\"].to(device)\n",
        "\n",
        "    with torch.no_grad():\n",
        "        outputs = model(input_ids, attention_mask=attention_mask)\n",
        "\n",
        "    embeddings = outputs.last_hidden_state[:, 0, :].cpu().numpy()\n",
        "    return embeddings"
      ]
    },
    {
      "cell_type": "code",
      "execution_count": 6,
      "metadata": {
        "id": "SqHs1KDJgx-O"
      },
      "outputs": [],
      "source": [
        "import matplotlib.pyplot as plt\n",
        "import seaborn as sns\n",
        "from sklearn.manifold import TSNE\n",
        "\n",
        "def tsne_plot(cls_emb, hue, style=None, filename=None, title=\"\"):\n",
        "    plt.rcParams[\"figure.figsize\"] = (10,6)\n",
        "    with plt.style.context('classic'):\n",
        "        plt.title(title)\n",
        "        sns.scatterplot(x=cls_emb[:, 0],\n",
        "                        y=cls_emb[:, 1],\n",
        "                        hue=hue,\n",
        "                        palette=\"husl\", s=80, style=style)\n",
        "        plt.tight_layout()\n",
        "        plt.rcParams[\"axes.labelsize\"] = 20\n",
        "        if filename is None:\n",
        "            plt.show()\n",
        "        else:\n",
        "            plt.savefig(filename, dpi=300)\n",
        "        plt.clf()"
      ]
    },
    {
      "cell_type": "code",
      "execution_count": 7,
      "metadata": {
        "colab": {
          "base_uri": "https://localhost:8080/"
        },
        "id": "TtUPQtsR785H",
        "outputId": "4781e80a-3344-499e-fe15-336f0bed090a"
      },
      "outputs": [
        {
          "name": "stdout",
          "output_type": "stream",
          "text": [
            "Drive already mounted at /content/drive; to attempt to forcibly remount, call drive.mount(\"/content/drive\", force_remount=True).\n"
          ]
        }
      ],
      "source": [
        "from google.colab import drive\n",
        "drive.mount('/content/drive')"
      ]
    },
    {
      "cell_type": "code",
      "execution_count": 8,
      "metadata": {
        "id": "psOGlHrV0njj"
      },
      "outputs": [],
      "source": [
        "datasets = [\"ishate\", \"toxigen\", \"ihc\", \"sbic\", \"dynahate\"]\n",
        "nof_samples = 300\n",
        "target_groups = [\"MUSLIMS\", \"WOMEN\", \"JEWS\", \"LGBTQ+\", \"BLACK PEOPLE\", \"WHITE PEOPLE\", \"IMMIGRANTS\", \"ASIAN\", \"DISEASE\"]"
      ]
    },
    {
      "cell_type": "code",
      "execution_count": 9,
      "metadata": {
        "colab": {
          "base_uri": "https://localhost:8080/",
          "height": 106
        },
        "id": "fVSzVzyUdK_q",
        "outputId": "1b3f29e2-46f9-40e7-a234-889fdac4441a"
      },
      "outputs": [
        {
          "name": "stderr",
          "output_type": "stream",
          "text": [
            "Some weights of the model checkpoint at BenjaminOcampo/model-hatebert__trained-in-dynahate__seed-0 were not used when initializing BertModel: ['classifier.weight', 'classifier.bias']\n",
            "- This IS expected if you are initializing BertModel from the checkpoint of a model trained on another task or with another architecture (e.g. initializing a BertForSequenceClassification model from a BertForPreTraining model).\n",
            "- This IS NOT expected if you are initializing BertModel from the checkpoint of a model that you expect to be exactly identical (initializing a BertForSequenceClassification model from a BertForSequenceClassification model).\n"
          ]
        },
        {
          "data": {
            "text/plain": [
              "<Figure size 640x480 with 0 Axes>"
            ]
          },
          "metadata": {},
          "output_type": "display_data"
        }
      ],
      "source": [
        "import itertools\n",
        "import os\n",
        "\n",
        "# Create directories to save bert and hatebert plots.\n",
        "os.makedirs(\"./bert\", exist_ok=True)\n",
        "os.makedirs(\"./hatebert\", exist_ok=True)\n",
        "\n",
        "# Download model and tokenizer from huggingface\n",
        "repo_id = f\"YOUR_USER/model-hatebert__trained-in-dynahate__seed-0\"\n",
        "device = torch.device(\"cuda\" if torch.cuda.is_available() else \"cpu\")\n",
        "model = AutoModel.from_pretrained(repo_id, use_auth_token=True).to(device)\n",
        "tokenizer = AutoTokenizer.from_pretrained(repo_id, use_auth_token=True)\n",
        "\n",
        "for data_to_eval in datasets:\n",
        "\n",
        "    # Read dataset to where evaluate the model\n",
        "    df = pd.read_parquet(f\"/content/drive/My Drive/datasets/{data_to_eval}_test.parquet.gzip\")\n",
        "\n",
        "    # Take a sample of `nof_samples` between Non-HS, Explicit HS, and Implicit HS\n",
        "    df_sample = df.groupby('implicit_layer', group_keys=False).apply(lambda x: sample_group(x, nof_samples))\n",
        "    df_sample = df_sample.reset_index(drop=False)\n",
        "    indices = df_sample[\n",
        "        df_sample[\"sanitized_target\"].isin(target_groups) &\n",
        "        (df_sample[\"label\"] == 1)\n",
        "    ].index\n",
        "    texts = df_sample[\"text\"].tolist()\n",
        "\n",
        "    # Run on GPU if possible\n",
        "    device = torch.device(\"cuda\" if torch.cuda.is_available() else \"cpu\")\n",
        "\n",
        "    # Get CLS embeddings for all the messages in `texts`\n",
        "    embeddings = embed(model, tokenizer, texts)\n",
        "    embeddings_np = np.array(embeddings)\n",
        "\n",
        "    # Fit TSNE for visualization and project embeddings to 2 components\n",
        "    tsne = TSNE(n_components=2)\n",
        "    cls_emb = tsne.fit_transform(embeddings_np)\n",
        "\n",
        "    # Make tsne plots with implicit and hateful labels\n",
        "    tsne_plot(cls_emb,\n",
        "              df_sample[\"implicit_layer\"],\n",
        "              filename=f\"hatebert/dynahate -> {data_to_eval} - implicit labels.png\",\n",
        "    )\n",
        "    tsne_plot(cls_emb,\n",
        "              df_sample[\"label\"].replace({0: \"Non-HS\", 1: \"HS\"}),\n",
        "              filename=f\"hatebert/dynahate -> {data_to_eval} - hs labels.png\",\n",
        "    )\n",
        "    tsne_plot(cls_emb[indices, :],\n",
        "              df_sample.iloc[indices].reset_index(drop=True)[\"sanitized_target\"],\n",
        "              filename=f\"hatebert/dynahate -> {data_to_eval} - target labels.png\",\n",
        "              style=df_sample.iloc[indices].reset_index(drop=True)[\"implicit_layer\"])"
      ]
    },
    {
      "cell_type": "code",
      "execution_count": 9,
      "metadata": {
        "id": "8of1gV6ddvE3"
      },
      "outputs": [],
      "source": []
    }
  ],
  "metadata": {
    "accelerator": "GPU",
    "colab": {
      "gpuType": "T4",
      "provenance": []
    },
    "kernelspec": {
      "display_name": "Python 3",
      "name": "python3"
    },
    "language_info": {
      "name": "python"
    }
  },
  "nbformat": 4,
  "nbformat_minor": 0
}
